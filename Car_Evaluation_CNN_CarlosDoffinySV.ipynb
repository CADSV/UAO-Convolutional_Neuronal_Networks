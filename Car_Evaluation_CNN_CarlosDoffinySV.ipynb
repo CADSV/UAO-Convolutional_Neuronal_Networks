{
  "nbformat": 4,
  "nbformat_minor": 0,
  "metadata": {
    "colab": {
      "name": "Ejercicio1_GuiaCNN_CarlosDoffinySV.ipynb",
      "provenance": [],
      "collapsed_sections": [
        "LbNAXZ6aTlQX",
        "-qEVyp15YYLh",
        "qMMgNGkiaSJA",
        "u92EFKY-3c_R",
        "4dKMHxxB345S",
        "Hi00K1U9G1dl",
        "my-MbyYRH4mP",
        "Aa_wuJ07IY17",
        "FEmlD62TIr1E",
        "YCBtEdCKJAlS",
        "lmjMk8rlG8qq",
        "bKgdTw1WYy07",
        "U4zzx18DKrsl",
        "js4JV9YfchQM",
        "lM-gwwpHTbt7",
        "xVupsHmtMZz0"
      ]
    },
    "kernelspec": {
      "name": "python3",
      "display_name": "Python 3"
    },
    "language_info": {
      "name": "python"
    }
  },
  "cells": [
    {
      "cell_type": "markdown",
      "source": [
        "#EJERCICIO N°1 DE LA GUÍA DE CNN - CARLOS DOFFINY S-V\n",
        "###Red Neuronal MLP Superficial usando el data set [Car Evaluation Data Set](https://archive.ics.uci.edu/ml/datasets/Car+Evaluation)"
      ],
      "metadata": {
        "id": "3jhrEuEbTRgU"
      }
    },
    {
      "cell_type": "markdown",
      "source": [
        "##Imports"
      ],
      "metadata": {
        "id": "LbNAXZ6aTlQX"
      }
    },
    {
      "cell_type": "code",
      "source": [
        "import numpy as np #Para los diferentes vectores y matrices que se usarán\n",
        "import matplotlib.pyplot as plt #Para graficar\n",
        "import tensorflow as tf #Para el aprendizaje automático y entrenamiento de las redes\n",
        "from tensorflow.keras.models import Sequential #Se usará una arquitectura secuencial\n",
        "from tensorflow.keras.layers import Dense #Para la caja negra, que será llenada con capas densas\n",
        "from tensorflow.keras.utils import plot_model #Para mostrar el resumen de la arquitectura en bloques\n",
        "from tensorflow.keras.callbacks import TensorBoard #Para el Tensorboard\n",
        "import datetime, os #Para el tensorboard\n",
        "import math as m #Para las funciones matemáticas y trigonométricas\n",
        "from sklearn import linear_model  #Importación de un modelo linear\n",
        "import pandas as pd #Ayuda a leer los archivos de varios tipos\n",
        "import seaborn as sn #Para gráficos más avanzados\n",
        "from sklearn.model_selection import train_test_split #Para dividir la data\n",
        "import cv2 as cv2 #Para leer las imágenes\n",
        "from keras.utils import np_utils\n",
        "from sklearn.metrics import confusion_matrix #Import para la matriz de confusión"
      ],
      "metadata": {
        "id": "rBc5bSKMTm5f"
      },
      "execution_count": 1,
      "outputs": []
    },
    {
      "cell_type": "markdown",
      "source": [
        "##Lectura de la data proveniente del archivo tipo Excel\n",
        "\n",
        "El data set usado es el de [Car Evaluation Data Set](https://archive.ics.uci.edu/ml/datasets/Car+Evaluation)"
      ],
      "metadata": {
        "id": "-qEVyp15YYLh"
      }
    },
    {
      "cell_type": "code",
      "source": [
        "data = pd.read_csv('car.data', sep=',', header=None, \n",
        "                 names=['Precio_compra', 'Precio_mant', 'Num_puertas', 'Num_personas', 'Tam_maleta', 'Seguridad', 'Target']) #Lectura del data set\n",
        "data #Imprimir data set"
      ],
      "metadata": {
        "colab": {
          "base_uri": "https://localhost:8080/",
          "height": 423
        },
        "id": "00N4ev9tYfrH",
        "outputId": "10dd4ab4-2f14-4f39-d4fb-4a86679d15a2"
      },
      "execution_count": 2,
      "outputs": [
        {
          "output_type": "execute_result",
          "data": {
            "text/plain": [
              "     Precio_compra Precio_mant Num_puertas Num_personas Tam_maleta Seguridad  \\\n",
              "0            vhigh       vhigh           2            2      small       low   \n",
              "1            vhigh       vhigh           2            2      small       med   \n",
              "2            vhigh       vhigh           2            2      small      high   \n",
              "3            vhigh       vhigh           2            2        med       low   \n",
              "4            vhigh       vhigh           2            2        med       med   \n",
              "...            ...         ...         ...          ...        ...       ...   \n",
              "1723           low         low       5more         more        med       med   \n",
              "1724           low         low       5more         more        med      high   \n",
              "1725           low         low       5more         more        big       low   \n",
              "1726           low         low       5more         more        big       med   \n",
              "1727           low         low       5more         more        big      high   \n",
              "\n",
              "     Target  \n",
              "0     unacc  \n",
              "1     unacc  \n",
              "2     unacc  \n",
              "3     unacc  \n",
              "4     unacc  \n",
              "...     ...  \n",
              "1723   good  \n",
              "1724  vgood  \n",
              "1725  unacc  \n",
              "1726   good  \n",
              "1727  vgood  \n",
              "\n",
              "[1728 rows x 7 columns]"
            ],
            "text/html": [
              "\n",
              "  <div id=\"df-bb475f9c-6e82-4e32-bc28-14906edc9c41\">\n",
              "    <div class=\"colab-df-container\">\n",
              "      <div>\n",
              "<style scoped>\n",
              "    .dataframe tbody tr th:only-of-type {\n",
              "        vertical-align: middle;\n",
              "    }\n",
              "\n",
              "    .dataframe tbody tr th {\n",
              "        vertical-align: top;\n",
              "    }\n",
              "\n",
              "    .dataframe thead th {\n",
              "        text-align: right;\n",
              "    }\n",
              "</style>\n",
              "<table border=\"1\" class=\"dataframe\">\n",
              "  <thead>\n",
              "    <tr style=\"text-align: right;\">\n",
              "      <th></th>\n",
              "      <th>Precio_compra</th>\n",
              "      <th>Precio_mant</th>\n",
              "      <th>Num_puertas</th>\n",
              "      <th>Num_personas</th>\n",
              "      <th>Tam_maleta</th>\n",
              "      <th>Seguridad</th>\n",
              "      <th>Target</th>\n",
              "    </tr>\n",
              "  </thead>\n",
              "  <tbody>\n",
              "    <tr>\n",
              "      <th>0</th>\n",
              "      <td>vhigh</td>\n",
              "      <td>vhigh</td>\n",
              "      <td>2</td>\n",
              "      <td>2</td>\n",
              "      <td>small</td>\n",
              "      <td>low</td>\n",
              "      <td>unacc</td>\n",
              "    </tr>\n",
              "    <tr>\n",
              "      <th>1</th>\n",
              "      <td>vhigh</td>\n",
              "      <td>vhigh</td>\n",
              "      <td>2</td>\n",
              "      <td>2</td>\n",
              "      <td>small</td>\n",
              "      <td>med</td>\n",
              "      <td>unacc</td>\n",
              "    </tr>\n",
              "    <tr>\n",
              "      <th>2</th>\n",
              "      <td>vhigh</td>\n",
              "      <td>vhigh</td>\n",
              "      <td>2</td>\n",
              "      <td>2</td>\n",
              "      <td>small</td>\n",
              "      <td>high</td>\n",
              "      <td>unacc</td>\n",
              "    </tr>\n",
              "    <tr>\n",
              "      <th>3</th>\n",
              "      <td>vhigh</td>\n",
              "      <td>vhigh</td>\n",
              "      <td>2</td>\n",
              "      <td>2</td>\n",
              "      <td>med</td>\n",
              "      <td>low</td>\n",
              "      <td>unacc</td>\n",
              "    </tr>\n",
              "    <tr>\n",
              "      <th>4</th>\n",
              "      <td>vhigh</td>\n",
              "      <td>vhigh</td>\n",
              "      <td>2</td>\n",
              "      <td>2</td>\n",
              "      <td>med</td>\n",
              "      <td>med</td>\n",
              "      <td>unacc</td>\n",
              "    </tr>\n",
              "    <tr>\n",
              "      <th>...</th>\n",
              "      <td>...</td>\n",
              "      <td>...</td>\n",
              "      <td>...</td>\n",
              "      <td>...</td>\n",
              "      <td>...</td>\n",
              "      <td>...</td>\n",
              "      <td>...</td>\n",
              "    </tr>\n",
              "    <tr>\n",
              "      <th>1723</th>\n",
              "      <td>low</td>\n",
              "      <td>low</td>\n",
              "      <td>5more</td>\n",
              "      <td>more</td>\n",
              "      <td>med</td>\n",
              "      <td>med</td>\n",
              "      <td>good</td>\n",
              "    </tr>\n",
              "    <tr>\n",
              "      <th>1724</th>\n",
              "      <td>low</td>\n",
              "      <td>low</td>\n",
              "      <td>5more</td>\n",
              "      <td>more</td>\n",
              "      <td>med</td>\n",
              "      <td>high</td>\n",
              "      <td>vgood</td>\n",
              "    </tr>\n",
              "    <tr>\n",
              "      <th>1725</th>\n",
              "      <td>low</td>\n",
              "      <td>low</td>\n",
              "      <td>5more</td>\n",
              "      <td>more</td>\n",
              "      <td>big</td>\n",
              "      <td>low</td>\n",
              "      <td>unacc</td>\n",
              "    </tr>\n",
              "    <tr>\n",
              "      <th>1726</th>\n",
              "      <td>low</td>\n",
              "      <td>low</td>\n",
              "      <td>5more</td>\n",
              "      <td>more</td>\n",
              "      <td>big</td>\n",
              "      <td>med</td>\n",
              "      <td>good</td>\n",
              "    </tr>\n",
              "    <tr>\n",
              "      <th>1727</th>\n",
              "      <td>low</td>\n",
              "      <td>low</td>\n",
              "      <td>5more</td>\n",
              "      <td>more</td>\n",
              "      <td>big</td>\n",
              "      <td>high</td>\n",
              "      <td>vgood</td>\n",
              "    </tr>\n",
              "  </tbody>\n",
              "</table>\n",
              "<p>1728 rows × 7 columns</p>\n",
              "</div>\n",
              "      <button class=\"colab-df-convert\" onclick=\"convertToInteractive('df-bb475f9c-6e82-4e32-bc28-14906edc9c41')\"\n",
              "              title=\"Convert this dataframe to an interactive table.\"\n",
              "              style=\"display:none;\">\n",
              "        \n",
              "  <svg xmlns=\"http://www.w3.org/2000/svg\" height=\"24px\"viewBox=\"0 0 24 24\"\n",
              "       width=\"24px\">\n",
              "    <path d=\"M0 0h24v24H0V0z\" fill=\"none\"/>\n",
              "    <path d=\"M18.56 5.44l.94 2.06.94-2.06 2.06-.94-2.06-.94-.94-2.06-.94 2.06-2.06.94zm-11 1L8.5 8.5l.94-2.06 2.06-.94-2.06-.94L8.5 2.5l-.94 2.06-2.06.94zm10 10l.94 2.06.94-2.06 2.06-.94-2.06-.94-.94-2.06-.94 2.06-2.06.94z\"/><path d=\"M17.41 7.96l-1.37-1.37c-.4-.4-.92-.59-1.43-.59-.52 0-1.04.2-1.43.59L10.3 9.45l-7.72 7.72c-.78.78-.78 2.05 0 2.83L4 21.41c.39.39.9.59 1.41.59.51 0 1.02-.2 1.41-.59l7.78-7.78 2.81-2.81c.8-.78.8-2.07 0-2.86zM5.41 20L4 18.59l7.72-7.72 1.47 1.35L5.41 20z\"/>\n",
              "  </svg>\n",
              "      </button>\n",
              "      \n",
              "  <style>\n",
              "    .colab-df-container {\n",
              "      display:flex;\n",
              "      flex-wrap:wrap;\n",
              "      gap: 12px;\n",
              "    }\n",
              "\n",
              "    .colab-df-convert {\n",
              "      background-color: #E8F0FE;\n",
              "      border: none;\n",
              "      border-radius: 50%;\n",
              "      cursor: pointer;\n",
              "      display: none;\n",
              "      fill: #1967D2;\n",
              "      height: 32px;\n",
              "      padding: 0 0 0 0;\n",
              "      width: 32px;\n",
              "    }\n",
              "\n",
              "    .colab-df-convert:hover {\n",
              "      background-color: #E2EBFA;\n",
              "      box-shadow: 0px 1px 2px rgba(60, 64, 67, 0.3), 0px 1px 3px 1px rgba(60, 64, 67, 0.15);\n",
              "      fill: #174EA6;\n",
              "    }\n",
              "\n",
              "    [theme=dark] .colab-df-convert {\n",
              "      background-color: #3B4455;\n",
              "      fill: #D2E3FC;\n",
              "    }\n",
              "\n",
              "    [theme=dark] .colab-df-convert:hover {\n",
              "      background-color: #434B5C;\n",
              "      box-shadow: 0px 1px 3px 1px rgba(0, 0, 0, 0.15);\n",
              "      filter: drop-shadow(0px 1px 2px rgba(0, 0, 0, 0.3));\n",
              "      fill: #FFFFFF;\n",
              "    }\n",
              "  </style>\n",
              "\n",
              "      <script>\n",
              "        const buttonEl =\n",
              "          document.querySelector('#df-bb475f9c-6e82-4e32-bc28-14906edc9c41 button.colab-df-convert');\n",
              "        buttonEl.style.display =\n",
              "          google.colab.kernel.accessAllowed ? 'block' : 'none';\n",
              "\n",
              "        async function convertToInteractive(key) {\n",
              "          const element = document.querySelector('#df-bb475f9c-6e82-4e32-bc28-14906edc9c41');\n",
              "          const dataTable =\n",
              "            await google.colab.kernel.invokeFunction('convertToInteractive',\n",
              "                                                     [key], {});\n",
              "          if (!dataTable) return;\n",
              "\n",
              "          const docLinkHtml = 'Like what you see? Visit the ' +\n",
              "            '<a target=\"_blank\" href=https://colab.research.google.com/notebooks/data_table.ipynb>data table notebook</a>'\n",
              "            + ' to learn more about interactive tables.';\n",
              "          element.innerHTML = '';\n",
              "          dataTable['output_type'] = 'display_data';\n",
              "          await google.colab.output.renderOutput(dataTable, element);\n",
              "          const docLink = document.createElement('div');\n",
              "          docLink.innerHTML = docLinkHtml;\n",
              "          element.appendChild(docLink);\n",
              "        }\n",
              "      </script>\n",
              "    </div>\n",
              "  </div>\n",
              "  "
            ]
          },
          "metadata": {},
          "execution_count": 2
        }
      ]
    },
    {
      "cell_type": "markdown",
      "source": [
        "##Análisis de la data"
      ],
      "metadata": {
        "id": "G71B4v7NaHUV"
      }
    },
    {
      "cell_type": "markdown",
      "source": [
        "###Verificar si existen valores nulos"
      ],
      "metadata": {
        "id": "qMMgNGkiaSJA"
      }
    },
    {
      "cell_type": "code",
      "source": [
        "#Verificamos si existe data null en alguna de las columnas\n",
        "data.isnull().sum()"
      ],
      "metadata": {
        "colab": {
          "base_uri": "https://localhost:8080/"
        },
        "id": "8uhkTLTXaKXF",
        "outputId": "de589360-f9ff-4160-9011-c8455f9f421f"
      },
      "execution_count": 3,
      "outputs": [
        {
          "output_type": "execute_result",
          "data": {
            "text/plain": [
              "Precio_compra    0\n",
              "Precio_mant      0\n",
              "Num_puertas      0\n",
              "Num_personas     0\n",
              "Tam_maleta       0\n",
              "Seguridad        0\n",
              "Target           0\n",
              "dtype: int64"
            ]
          },
          "metadata": {},
          "execution_count": 3
        }
      ]
    },
    {
      "cell_type": "markdown",
      "source": [
        "###Anális y numeración de cada una de las columnas"
      ],
      "metadata": {
        "id": "u92EFKY-3c_R"
      }
    },
    {
      "cell_type": "markdown",
      "source": [
        "####Precio de compra"
      ],
      "metadata": {
        "id": "4dKMHxxB345S"
      }
    },
    {
      "cell_type": "code",
      "source": [
        "data['Precio_compra'].value_counts() #Contamos la cantidad de los diferentes valores que hay en el precio de compra"
      ],
      "metadata": {
        "colab": {
          "base_uri": "https://localhost:8080/"
        },
        "id": "Lc8sHJtU3S7g",
        "outputId": "5b228fd3-92e2-4e0e-d8d9-81b94a06038c"
      },
      "execution_count": 4,
      "outputs": [
        {
          "output_type": "execute_result",
          "data": {
            "text/plain": [
              "vhigh    432\n",
              "high     432\n",
              "med      432\n",
              "low      432\n",
              "Name: Precio_compra, dtype: int64"
            ]
          },
          "metadata": {},
          "execution_count": 4
        }
      ]
    },
    {
      "cell_type": "code",
      "source": [
        "precios = {'low':0, 'med':1, 'high':2, 'vhigh':3}  #Transformando a números los diferentes posibles valores en el precio de compra\n",
        "data.Precio_compra = [precios[item] for item in data.Precio_compra] \n",
        "\n",
        "data['Precio_compra'].value_counts()"
      ],
      "metadata": {
        "colab": {
          "base_uri": "https://localhost:8080/"
        },
        "id": "R1D1baLa0v2s",
        "outputId": "1fcaf94f-eea0-408d-d6ab-3ff45049019e"
      },
      "execution_count": 5,
      "outputs": [
        {
          "output_type": "execute_result",
          "data": {
            "text/plain": [
              "3    432\n",
              "2    432\n",
              "1    432\n",
              "0    432\n",
              "Name: Precio_compra, dtype: int64"
            ]
          },
          "metadata": {},
          "execution_count": 5
        }
      ]
    },
    {
      "cell_type": "markdown",
      "source": [
        "####Precio de mantenimiento"
      ],
      "metadata": {
        "id": "Hi00K1U9G1dl"
      }
    },
    {
      "cell_type": "code",
      "source": [
        "data['Precio_mant'].value_counts() #Contamos la cantidad de los diferentes valores que hay en el precio de mantenimiento"
      ],
      "metadata": {
        "colab": {
          "base_uri": "https://localhost:8080/"
        },
        "id": "9P1HP4ZbG4hq",
        "outputId": "ed322b42-144d-45fd-bf45-9482f8f69106"
      },
      "execution_count": 6,
      "outputs": [
        {
          "output_type": "execute_result",
          "data": {
            "text/plain": [
              "vhigh    432\n",
              "high     432\n",
              "med      432\n",
              "low      432\n",
              "Name: Precio_mant, dtype: int64"
            ]
          },
          "metadata": {},
          "execution_count": 6
        }
      ]
    },
    {
      "cell_type": "code",
      "source": [
        "mante = {'low':0, 'med':1, 'high':2, 'vhigh':3}  #Transformando a números los diferentes posibles valores en el precio de mantenimiento\n",
        "data.Precio_mant = [mante[item] for item in data.Precio_mant] \n",
        "\n",
        "data['Precio_mant'].value_counts()"
      ],
      "metadata": {
        "colab": {
          "base_uri": "https://localhost:8080/"
        },
        "id": "V9ZMW0TL1m4C",
        "outputId": "17f0b7c2-fcef-43cc-83ae-f66289c02477"
      },
      "execution_count": 7,
      "outputs": [
        {
          "output_type": "execute_result",
          "data": {
            "text/plain": [
              "3    432\n",
              "2    432\n",
              "1    432\n",
              "0    432\n",
              "Name: Precio_mant, dtype: int64"
            ]
          },
          "metadata": {},
          "execution_count": 7
        }
      ]
    },
    {
      "cell_type": "markdown",
      "source": [
        "####Número de puertas"
      ],
      "metadata": {
        "id": "my-MbyYRH4mP"
      }
    },
    {
      "cell_type": "code",
      "source": [
        "data['Num_puertas'].value_counts() #Contamos la cantidad de los diferentes valores que hay en el número de puertas"
      ],
      "metadata": {
        "colab": {
          "base_uri": "https://localhost:8080/"
        },
        "id": "JulkxXETH7le",
        "outputId": "b9337367-9476-4ab9-ed1b-8ab1115e2b68"
      },
      "execution_count": 8,
      "outputs": [
        {
          "output_type": "execute_result",
          "data": {
            "text/plain": [
              "2        432\n",
              "3        432\n",
              "4        432\n",
              "5more    432\n",
              "Name: Num_puertas, dtype: int64"
            ]
          },
          "metadata": {},
          "execution_count": 8
        }
      ]
    },
    {
      "cell_type": "code",
      "source": [
        "puertas = {'2':0, '3':1, '4':2, '5more':3}  #Transformando a números los diferentes posibles valores en el número de puertas\n",
        "data.Num_puertas = [puertas[item] for item in data.Num_puertas] \n",
        "\n",
        "data['Num_puertas'].value_counts()"
      ],
      "metadata": {
        "colab": {
          "base_uri": "https://localhost:8080/"
        },
        "id": "CYwQu7EM116i",
        "outputId": "3c43e916-7a7d-46e9-d6d7-124573c34e4b"
      },
      "execution_count": 9,
      "outputs": [
        {
          "output_type": "execute_result",
          "data": {
            "text/plain": [
              "0    432\n",
              "1    432\n",
              "2    432\n",
              "3    432\n",
              "Name: Num_puertas, dtype: int64"
            ]
          },
          "metadata": {},
          "execution_count": 9
        }
      ]
    },
    {
      "cell_type": "markdown",
      "source": [
        "####Número de personas"
      ],
      "metadata": {
        "id": "Aa_wuJ07IY17"
      }
    },
    {
      "cell_type": "code",
      "source": [
        "data['Num_personas'].value_counts() #Contamos la cantidad de los diferentes valores que hay en el número de personas"
      ],
      "metadata": {
        "colab": {
          "base_uri": "https://localhost:8080/"
        },
        "id": "WqQrd9NDIaWi",
        "outputId": "e59d9406-86d2-45f9-c118-ae3c116d3c9c"
      },
      "execution_count": 10,
      "outputs": [
        {
          "output_type": "execute_result",
          "data": {
            "text/plain": [
              "2       576\n",
              "4       576\n",
              "more    576\n",
              "Name: Num_personas, dtype: int64"
            ]
          },
          "metadata": {},
          "execution_count": 10
        }
      ]
    },
    {
      "cell_type": "code",
      "source": [
        "personas = {'2':0, '4':1, 'more':2}  #Transformando a números los diferentes posibles valores en el número de personas\n",
        "data.Num_personas = [personas[item] for item in data.Num_personas] \n",
        "\n",
        "data['Num_personas'].value_counts()"
      ],
      "metadata": {
        "colab": {
          "base_uri": "https://localhost:8080/"
        },
        "id": "MNknE5y92IFk",
        "outputId": "5c089a4f-61b8-4c3d-bf84-72af783650cc"
      },
      "execution_count": 11,
      "outputs": [
        {
          "output_type": "execute_result",
          "data": {
            "text/plain": [
              "0    576\n",
              "1    576\n",
              "2    576\n",
              "Name: Num_personas, dtype: int64"
            ]
          },
          "metadata": {},
          "execution_count": 11
        }
      ]
    },
    {
      "cell_type": "markdown",
      "source": [
        "####Tamaño de la maleta"
      ],
      "metadata": {
        "id": "FEmlD62TIr1E"
      }
    },
    {
      "cell_type": "code",
      "source": [
        "data['Tam_maleta'].value_counts() #Contamos la cantidad de los diferentes valores que hay en el tamaño de la maleta"
      ],
      "metadata": {
        "colab": {
          "base_uri": "https://localhost:8080/"
        },
        "id": "pfviOEGgIt21",
        "outputId": "f814c37f-a82a-4f1d-d1c3-151e0177f111"
      },
      "execution_count": 12,
      "outputs": [
        {
          "output_type": "execute_result",
          "data": {
            "text/plain": [
              "small    576\n",
              "med      576\n",
              "big      576\n",
              "Name: Tam_maleta, dtype: int64"
            ]
          },
          "metadata": {},
          "execution_count": 12
        }
      ]
    },
    {
      "cell_type": "code",
      "source": [
        "maleta = {'small':0, 'med':1, 'big':2}  #Transformando a números los diferentes posibles valores en el tamaño de la maleta\n",
        "data.Tam_maleta = [maleta[item] for item in data.Tam_maleta] \n",
        "\n",
        "data['Tam_maleta'].value_counts()"
      ],
      "metadata": {
        "colab": {
          "base_uri": "https://localhost:8080/"
        },
        "id": "-xFdb_pi2fDE",
        "outputId": "8ac779dd-fcfe-4e67-b55a-dbfbf93bde27"
      },
      "execution_count": 13,
      "outputs": [
        {
          "output_type": "execute_result",
          "data": {
            "text/plain": [
              "0    576\n",
              "1    576\n",
              "2    576\n",
              "Name: Tam_maleta, dtype: int64"
            ]
          },
          "metadata": {},
          "execution_count": 13
        }
      ]
    },
    {
      "cell_type": "markdown",
      "source": [
        "####Seguridad"
      ],
      "metadata": {
        "id": "YCBtEdCKJAlS"
      }
    },
    {
      "cell_type": "code",
      "source": [
        "data['Seguridad'].value_counts() #Contamos la cantidad de los diferentes valores que hay en la seguridad del vehículo"
      ],
      "metadata": {
        "colab": {
          "base_uri": "https://localhost:8080/"
        },
        "id": "I260PnIRJCBo",
        "outputId": "e9188873-ac65-4e08-d25b-2ce5a7b7b729"
      },
      "execution_count": 14,
      "outputs": [
        {
          "output_type": "execute_result",
          "data": {
            "text/plain": [
              "low     576\n",
              "med     576\n",
              "high    576\n",
              "Name: Seguridad, dtype: int64"
            ]
          },
          "metadata": {},
          "execution_count": 14
        }
      ]
    },
    {
      "cell_type": "code",
      "source": [
        "seguridad = {'low':0, 'med':1, 'high':2}  #Transformando a números los diferentes posibles valores en la seguridad del vehículo\n",
        "data.Seguridad = [seguridad[item] for item in data.Seguridad] \n",
        "\n",
        "data['Seguridad'].value_counts()"
      ],
      "metadata": {
        "colab": {
          "base_uri": "https://localhost:8080/"
        },
        "id": "TD88Z1GF20Cf",
        "outputId": "cc5d92ba-b6f6-4eb1-80be-e764487ef4c1"
      },
      "execution_count": 15,
      "outputs": [
        {
          "output_type": "execute_result",
          "data": {
            "text/plain": [
              "0    576\n",
              "1    576\n",
              "2    576\n",
              "Name: Seguridad, dtype: int64"
            ]
          },
          "metadata": {},
          "execution_count": 15
        }
      ]
    },
    {
      "cell_type": "markdown",
      "source": [
        "####Target"
      ],
      "metadata": {
        "id": "lmjMk8rlG8qq"
      }
    },
    {
      "cell_type": "code",
      "source": [
        "data['Target'].value_counts() #Contamos la cantidad de los diferentes valores que hay en el target"
      ],
      "metadata": {
        "colab": {
          "base_uri": "https://localhost:8080/"
        },
        "id": "N4f_EWY_JXCD",
        "outputId": "5c010ab0-d876-4f2c-eab9-703c2227b7ed"
      },
      "execution_count": 16,
      "outputs": [
        {
          "output_type": "execute_result",
          "data": {
            "text/plain": [
              "unacc    1210\n",
              "acc       384\n",
              "good       69\n",
              "vgood      65\n",
              "Name: Target, dtype: int64"
            ]
          },
          "metadata": {},
          "execution_count": 16
        }
      ]
    },
    {
      "cell_type": "code",
      "source": [
        "target = {'unacc':0, 'acc':1, 'good':2, 'vgood':3}  #Transformando a números los diferentes posibles valores en el target\n",
        "data.Target = [target[item] for item in data.Target] \n",
        "\n",
        "data['Target'].value_counts()"
      ],
      "metadata": {
        "colab": {
          "base_uri": "https://localhost:8080/"
        },
        "id": "2GVN3ycu3BuJ",
        "outputId": "c7d25e1f-64c9-4f43-b693-0a244cbf0352"
      },
      "execution_count": 17,
      "outputs": [
        {
          "output_type": "execute_result",
          "data": {
            "text/plain": [
              "0    1210\n",
              "1     384\n",
              "2      69\n",
              "3      65\n",
              "Name: Target, dtype: int64"
            ]
          },
          "metadata": {},
          "execution_count": 17
        }
      ]
    },
    {
      "cell_type": "markdown",
      "source": [
        "####Ahora imprimimos de nuevo el data set para verificar que todos los cambios de los valores se hayan hecho con éxito"
      ],
      "metadata": {
        "id": "FekaW43IJn6l"
      }
    },
    {
      "cell_type": "code",
      "source": [
        "data"
      ],
      "metadata": {
        "colab": {
          "base_uri": "https://localhost:8080/",
          "height": 0
        },
        "id": "7fweL43839Ad",
        "outputId": "610eca96-1397-423e-ab45-c33e1cbb928b"
      },
      "execution_count": 18,
      "outputs": [
        {
          "output_type": "execute_result",
          "data": {
            "text/plain": [
              "      Precio_compra  Precio_mant  Num_puertas  Num_personas  Tam_maleta  \\\n",
              "0                 3            3            0             0           0   \n",
              "1                 3            3            0             0           0   \n",
              "2                 3            3            0             0           0   \n",
              "3                 3            3            0             0           1   \n",
              "4                 3            3            0             0           1   \n",
              "...             ...          ...          ...           ...         ...   \n",
              "1723              0            0            3             2           1   \n",
              "1724              0            0            3             2           1   \n",
              "1725              0            0            3             2           2   \n",
              "1726              0            0            3             2           2   \n",
              "1727              0            0            3             2           2   \n",
              "\n",
              "      Seguridad  Target  \n",
              "0             0       0  \n",
              "1             1       0  \n",
              "2             2       0  \n",
              "3             0       0  \n",
              "4             1       0  \n",
              "...         ...     ...  \n",
              "1723          1       2  \n",
              "1724          2       3  \n",
              "1725          0       0  \n",
              "1726          1       2  \n",
              "1727          2       3  \n",
              "\n",
              "[1728 rows x 7 columns]"
            ],
            "text/html": [
              "\n",
              "  <div id=\"df-eddcba25-b9ad-419e-b6e3-3bdc7af7507c\">\n",
              "    <div class=\"colab-df-container\">\n",
              "      <div>\n",
              "<style scoped>\n",
              "    .dataframe tbody tr th:only-of-type {\n",
              "        vertical-align: middle;\n",
              "    }\n",
              "\n",
              "    .dataframe tbody tr th {\n",
              "        vertical-align: top;\n",
              "    }\n",
              "\n",
              "    .dataframe thead th {\n",
              "        text-align: right;\n",
              "    }\n",
              "</style>\n",
              "<table border=\"1\" class=\"dataframe\">\n",
              "  <thead>\n",
              "    <tr style=\"text-align: right;\">\n",
              "      <th></th>\n",
              "      <th>Precio_compra</th>\n",
              "      <th>Precio_mant</th>\n",
              "      <th>Num_puertas</th>\n",
              "      <th>Num_personas</th>\n",
              "      <th>Tam_maleta</th>\n",
              "      <th>Seguridad</th>\n",
              "      <th>Target</th>\n",
              "    </tr>\n",
              "  </thead>\n",
              "  <tbody>\n",
              "    <tr>\n",
              "      <th>0</th>\n",
              "      <td>3</td>\n",
              "      <td>3</td>\n",
              "      <td>0</td>\n",
              "      <td>0</td>\n",
              "      <td>0</td>\n",
              "      <td>0</td>\n",
              "      <td>0</td>\n",
              "    </tr>\n",
              "    <tr>\n",
              "      <th>1</th>\n",
              "      <td>3</td>\n",
              "      <td>3</td>\n",
              "      <td>0</td>\n",
              "      <td>0</td>\n",
              "      <td>0</td>\n",
              "      <td>1</td>\n",
              "      <td>0</td>\n",
              "    </tr>\n",
              "    <tr>\n",
              "      <th>2</th>\n",
              "      <td>3</td>\n",
              "      <td>3</td>\n",
              "      <td>0</td>\n",
              "      <td>0</td>\n",
              "      <td>0</td>\n",
              "      <td>2</td>\n",
              "      <td>0</td>\n",
              "    </tr>\n",
              "    <tr>\n",
              "      <th>3</th>\n",
              "      <td>3</td>\n",
              "      <td>3</td>\n",
              "      <td>0</td>\n",
              "      <td>0</td>\n",
              "      <td>1</td>\n",
              "      <td>0</td>\n",
              "      <td>0</td>\n",
              "    </tr>\n",
              "    <tr>\n",
              "      <th>4</th>\n",
              "      <td>3</td>\n",
              "      <td>3</td>\n",
              "      <td>0</td>\n",
              "      <td>0</td>\n",
              "      <td>1</td>\n",
              "      <td>1</td>\n",
              "      <td>0</td>\n",
              "    </tr>\n",
              "    <tr>\n",
              "      <th>...</th>\n",
              "      <td>...</td>\n",
              "      <td>...</td>\n",
              "      <td>...</td>\n",
              "      <td>...</td>\n",
              "      <td>...</td>\n",
              "      <td>...</td>\n",
              "      <td>...</td>\n",
              "    </tr>\n",
              "    <tr>\n",
              "      <th>1723</th>\n",
              "      <td>0</td>\n",
              "      <td>0</td>\n",
              "      <td>3</td>\n",
              "      <td>2</td>\n",
              "      <td>1</td>\n",
              "      <td>1</td>\n",
              "      <td>2</td>\n",
              "    </tr>\n",
              "    <tr>\n",
              "      <th>1724</th>\n",
              "      <td>0</td>\n",
              "      <td>0</td>\n",
              "      <td>3</td>\n",
              "      <td>2</td>\n",
              "      <td>1</td>\n",
              "      <td>2</td>\n",
              "      <td>3</td>\n",
              "    </tr>\n",
              "    <tr>\n",
              "      <th>1725</th>\n",
              "      <td>0</td>\n",
              "      <td>0</td>\n",
              "      <td>3</td>\n",
              "      <td>2</td>\n",
              "      <td>2</td>\n",
              "      <td>0</td>\n",
              "      <td>0</td>\n",
              "    </tr>\n",
              "    <tr>\n",
              "      <th>1726</th>\n",
              "      <td>0</td>\n",
              "      <td>0</td>\n",
              "      <td>3</td>\n",
              "      <td>2</td>\n",
              "      <td>2</td>\n",
              "      <td>1</td>\n",
              "      <td>2</td>\n",
              "    </tr>\n",
              "    <tr>\n",
              "      <th>1727</th>\n",
              "      <td>0</td>\n",
              "      <td>0</td>\n",
              "      <td>3</td>\n",
              "      <td>2</td>\n",
              "      <td>2</td>\n",
              "      <td>2</td>\n",
              "      <td>3</td>\n",
              "    </tr>\n",
              "  </tbody>\n",
              "</table>\n",
              "<p>1728 rows × 7 columns</p>\n",
              "</div>\n",
              "      <button class=\"colab-df-convert\" onclick=\"convertToInteractive('df-eddcba25-b9ad-419e-b6e3-3bdc7af7507c')\"\n",
              "              title=\"Convert this dataframe to an interactive table.\"\n",
              "              style=\"display:none;\">\n",
              "        \n",
              "  <svg xmlns=\"http://www.w3.org/2000/svg\" height=\"24px\"viewBox=\"0 0 24 24\"\n",
              "       width=\"24px\">\n",
              "    <path d=\"M0 0h24v24H0V0z\" fill=\"none\"/>\n",
              "    <path d=\"M18.56 5.44l.94 2.06.94-2.06 2.06-.94-2.06-.94-.94-2.06-.94 2.06-2.06.94zm-11 1L8.5 8.5l.94-2.06 2.06-.94-2.06-.94L8.5 2.5l-.94 2.06-2.06.94zm10 10l.94 2.06.94-2.06 2.06-.94-2.06-.94-.94-2.06-.94 2.06-2.06.94z\"/><path d=\"M17.41 7.96l-1.37-1.37c-.4-.4-.92-.59-1.43-.59-.52 0-1.04.2-1.43.59L10.3 9.45l-7.72 7.72c-.78.78-.78 2.05 0 2.83L4 21.41c.39.39.9.59 1.41.59.51 0 1.02-.2 1.41-.59l7.78-7.78 2.81-2.81c.8-.78.8-2.07 0-2.86zM5.41 20L4 18.59l7.72-7.72 1.47 1.35L5.41 20z\"/>\n",
              "  </svg>\n",
              "      </button>\n",
              "      \n",
              "  <style>\n",
              "    .colab-df-container {\n",
              "      display:flex;\n",
              "      flex-wrap:wrap;\n",
              "      gap: 12px;\n",
              "    }\n",
              "\n",
              "    .colab-df-convert {\n",
              "      background-color: #E8F0FE;\n",
              "      border: none;\n",
              "      border-radius: 50%;\n",
              "      cursor: pointer;\n",
              "      display: none;\n",
              "      fill: #1967D2;\n",
              "      height: 32px;\n",
              "      padding: 0 0 0 0;\n",
              "      width: 32px;\n",
              "    }\n",
              "\n",
              "    .colab-df-convert:hover {\n",
              "      background-color: #E2EBFA;\n",
              "      box-shadow: 0px 1px 2px rgba(60, 64, 67, 0.3), 0px 1px 3px 1px rgba(60, 64, 67, 0.15);\n",
              "      fill: #174EA6;\n",
              "    }\n",
              "\n",
              "    [theme=dark] .colab-df-convert {\n",
              "      background-color: #3B4455;\n",
              "      fill: #D2E3FC;\n",
              "    }\n",
              "\n",
              "    [theme=dark] .colab-df-convert:hover {\n",
              "      background-color: #434B5C;\n",
              "      box-shadow: 0px 1px 3px 1px rgba(0, 0, 0, 0.15);\n",
              "      filter: drop-shadow(0px 1px 2px rgba(0, 0, 0, 0.3));\n",
              "      fill: #FFFFFF;\n",
              "    }\n",
              "  </style>\n",
              "\n",
              "      <script>\n",
              "        const buttonEl =\n",
              "          document.querySelector('#df-eddcba25-b9ad-419e-b6e3-3bdc7af7507c button.colab-df-convert');\n",
              "        buttonEl.style.display =\n",
              "          google.colab.kernel.accessAllowed ? 'block' : 'none';\n",
              "\n",
              "        async function convertToInteractive(key) {\n",
              "          const element = document.querySelector('#df-eddcba25-b9ad-419e-b6e3-3bdc7af7507c');\n",
              "          const dataTable =\n",
              "            await google.colab.kernel.invokeFunction('convertToInteractive',\n",
              "                                                     [key], {});\n",
              "          if (!dataTable) return;\n",
              "\n",
              "          const docLinkHtml = 'Like what you see? Visit the ' +\n",
              "            '<a target=\"_blank\" href=https://colab.research.google.com/notebooks/data_table.ipynb>data table notebook</a>'\n",
              "            + ' to learn more about interactive tables.';\n",
              "          element.innerHTML = '';\n",
              "          dataTable['output_type'] = 'display_data';\n",
              "          await google.colab.output.renderOutput(dataTable, element);\n",
              "          const docLink = document.createElement('div');\n",
              "          docLink.innerHTML = docLinkHtml;\n",
              "          element.appendChild(docLink);\n",
              "        }\n",
              "      </script>\n",
              "    </div>\n",
              "  </div>\n",
              "  "
            ]
          },
          "metadata": {},
          "execution_count": 18
        }
      ]
    },
    {
      "cell_type": "markdown",
      "source": [
        "##Separar la data feature de la target"
      ],
      "metadata": {
        "id": "bKgdTw1WYy07"
      }
    },
    {
      "cell_type": "code",
      "source": [
        "target = data['Target'].values #y_train\n",
        "data_feature = data.drop(['Target'], axis = 1)  #Separamos el feature del target \n",
        "\n",
        "print(target.shape)\n",
        "print(data_feature.shape)"
      ],
      "metadata": {
        "colab": {
          "base_uri": "https://localhost:8080/"
        },
        "id": "qIK488_eY1cE",
        "outputId": "622ea747-b695-49cc-a35a-22b7373d5e55"
      },
      "execution_count": 19,
      "outputs": [
        {
          "output_type": "stream",
          "name": "stdout",
          "text": [
            "(1728,)\n",
            "(1728, 6)\n"
          ]
        }
      ]
    },
    {
      "cell_type": "markdown",
      "source": [
        "##Normalizar Data\n",
        "#####Con valores entre 1 y 0, y solo con la data de entrada\n"
      ],
      "metadata": {
        "id": "U4zzx18DKrsl"
      }
    },
    {
      "cell_type": "code",
      "source": [
        "def normalizar(x,xmax,xmin,ymax,ymin): #Función para normalizar\n",
        "  m = (ymax - ymin)/(xmax - xmin)\n",
        "  b = ymin - m*xmin\n",
        "\n",
        "  y = m*x+b\n",
        "\n",
        "  return y"
      ],
      "metadata": {
        "id": "6XDKRerFLUOc"
      },
      "execution_count": 20,
      "outputs": []
    },
    {
      "cell_type": "code",
      "source": [
        "data_nor = normalizar(data_feature,np.max(data_feature),np.min(data_feature),1,0) #Normalizar\n",
        "\n",
        "print('La data normalizada es:')\n",
        "data_nor.head(1728)"
      ],
      "metadata": {
        "colab": {
          "base_uri": "https://localhost:8080/",
          "height": 0
        },
        "id": "TL3xSNnoLcc7",
        "outputId": "306b0586-752a-4b93-e9f1-a5e85a4d1261"
      },
      "execution_count": 21,
      "outputs": [
        {
          "output_type": "stream",
          "name": "stdout",
          "text": [
            "La data normalizada es:\n"
          ]
        },
        {
          "output_type": "execute_result",
          "data": {
            "text/plain": [
              "      Precio_compra  Precio_mant  Num_puertas  Num_personas  Tam_maleta  \\\n",
              "0               1.0          1.0          0.0           0.0         0.0   \n",
              "1               1.0          1.0          0.0           0.0         0.0   \n",
              "2               1.0          1.0          0.0           0.0         0.0   \n",
              "3               1.0          1.0          0.0           0.0         0.5   \n",
              "4               1.0          1.0          0.0           0.0         0.5   \n",
              "...             ...          ...          ...           ...         ...   \n",
              "1723            0.0          0.0          1.0           1.0         0.5   \n",
              "1724            0.0          0.0          1.0           1.0         0.5   \n",
              "1725            0.0          0.0          1.0           1.0         1.0   \n",
              "1726            0.0          0.0          1.0           1.0         1.0   \n",
              "1727            0.0          0.0          1.0           1.0         1.0   \n",
              "\n",
              "      Seguridad  \n",
              "0           0.0  \n",
              "1           0.5  \n",
              "2           1.0  \n",
              "3           0.0  \n",
              "4           0.5  \n",
              "...         ...  \n",
              "1723        0.5  \n",
              "1724        1.0  \n",
              "1725        0.0  \n",
              "1726        0.5  \n",
              "1727        1.0  \n",
              "\n",
              "[1728 rows x 6 columns]"
            ],
            "text/html": [
              "\n",
              "  <div id=\"df-9c0d291b-4ced-42aa-8d1c-2216638ff0b1\">\n",
              "    <div class=\"colab-df-container\">\n",
              "      <div>\n",
              "<style scoped>\n",
              "    .dataframe tbody tr th:only-of-type {\n",
              "        vertical-align: middle;\n",
              "    }\n",
              "\n",
              "    .dataframe tbody tr th {\n",
              "        vertical-align: top;\n",
              "    }\n",
              "\n",
              "    .dataframe thead th {\n",
              "        text-align: right;\n",
              "    }\n",
              "</style>\n",
              "<table border=\"1\" class=\"dataframe\">\n",
              "  <thead>\n",
              "    <tr style=\"text-align: right;\">\n",
              "      <th></th>\n",
              "      <th>Precio_compra</th>\n",
              "      <th>Precio_mant</th>\n",
              "      <th>Num_puertas</th>\n",
              "      <th>Num_personas</th>\n",
              "      <th>Tam_maleta</th>\n",
              "      <th>Seguridad</th>\n",
              "    </tr>\n",
              "  </thead>\n",
              "  <tbody>\n",
              "    <tr>\n",
              "      <th>0</th>\n",
              "      <td>1.0</td>\n",
              "      <td>1.0</td>\n",
              "      <td>0.0</td>\n",
              "      <td>0.0</td>\n",
              "      <td>0.0</td>\n",
              "      <td>0.0</td>\n",
              "    </tr>\n",
              "    <tr>\n",
              "      <th>1</th>\n",
              "      <td>1.0</td>\n",
              "      <td>1.0</td>\n",
              "      <td>0.0</td>\n",
              "      <td>0.0</td>\n",
              "      <td>0.0</td>\n",
              "      <td>0.5</td>\n",
              "    </tr>\n",
              "    <tr>\n",
              "      <th>2</th>\n",
              "      <td>1.0</td>\n",
              "      <td>1.0</td>\n",
              "      <td>0.0</td>\n",
              "      <td>0.0</td>\n",
              "      <td>0.0</td>\n",
              "      <td>1.0</td>\n",
              "    </tr>\n",
              "    <tr>\n",
              "      <th>3</th>\n",
              "      <td>1.0</td>\n",
              "      <td>1.0</td>\n",
              "      <td>0.0</td>\n",
              "      <td>0.0</td>\n",
              "      <td>0.5</td>\n",
              "      <td>0.0</td>\n",
              "    </tr>\n",
              "    <tr>\n",
              "      <th>4</th>\n",
              "      <td>1.0</td>\n",
              "      <td>1.0</td>\n",
              "      <td>0.0</td>\n",
              "      <td>0.0</td>\n",
              "      <td>0.5</td>\n",
              "      <td>0.5</td>\n",
              "    </tr>\n",
              "    <tr>\n",
              "      <th>...</th>\n",
              "      <td>...</td>\n",
              "      <td>...</td>\n",
              "      <td>...</td>\n",
              "      <td>...</td>\n",
              "      <td>...</td>\n",
              "      <td>...</td>\n",
              "    </tr>\n",
              "    <tr>\n",
              "      <th>1723</th>\n",
              "      <td>0.0</td>\n",
              "      <td>0.0</td>\n",
              "      <td>1.0</td>\n",
              "      <td>1.0</td>\n",
              "      <td>0.5</td>\n",
              "      <td>0.5</td>\n",
              "    </tr>\n",
              "    <tr>\n",
              "      <th>1724</th>\n",
              "      <td>0.0</td>\n",
              "      <td>0.0</td>\n",
              "      <td>1.0</td>\n",
              "      <td>1.0</td>\n",
              "      <td>0.5</td>\n",
              "      <td>1.0</td>\n",
              "    </tr>\n",
              "    <tr>\n",
              "      <th>1725</th>\n",
              "      <td>0.0</td>\n",
              "      <td>0.0</td>\n",
              "      <td>1.0</td>\n",
              "      <td>1.0</td>\n",
              "      <td>1.0</td>\n",
              "      <td>0.0</td>\n",
              "    </tr>\n",
              "    <tr>\n",
              "      <th>1726</th>\n",
              "      <td>0.0</td>\n",
              "      <td>0.0</td>\n",
              "      <td>1.0</td>\n",
              "      <td>1.0</td>\n",
              "      <td>1.0</td>\n",
              "      <td>0.5</td>\n",
              "    </tr>\n",
              "    <tr>\n",
              "      <th>1727</th>\n",
              "      <td>0.0</td>\n",
              "      <td>0.0</td>\n",
              "      <td>1.0</td>\n",
              "      <td>1.0</td>\n",
              "      <td>1.0</td>\n",
              "      <td>1.0</td>\n",
              "    </tr>\n",
              "  </tbody>\n",
              "</table>\n",
              "<p>1728 rows × 6 columns</p>\n",
              "</div>\n",
              "      <button class=\"colab-df-convert\" onclick=\"convertToInteractive('df-9c0d291b-4ced-42aa-8d1c-2216638ff0b1')\"\n",
              "              title=\"Convert this dataframe to an interactive table.\"\n",
              "              style=\"display:none;\">\n",
              "        \n",
              "  <svg xmlns=\"http://www.w3.org/2000/svg\" height=\"24px\"viewBox=\"0 0 24 24\"\n",
              "       width=\"24px\">\n",
              "    <path d=\"M0 0h24v24H0V0z\" fill=\"none\"/>\n",
              "    <path d=\"M18.56 5.44l.94 2.06.94-2.06 2.06-.94-2.06-.94-.94-2.06-.94 2.06-2.06.94zm-11 1L8.5 8.5l.94-2.06 2.06-.94-2.06-.94L8.5 2.5l-.94 2.06-2.06.94zm10 10l.94 2.06.94-2.06 2.06-.94-2.06-.94-.94-2.06-.94 2.06-2.06.94z\"/><path d=\"M17.41 7.96l-1.37-1.37c-.4-.4-.92-.59-1.43-.59-.52 0-1.04.2-1.43.59L10.3 9.45l-7.72 7.72c-.78.78-.78 2.05 0 2.83L4 21.41c.39.39.9.59 1.41.59.51 0 1.02-.2 1.41-.59l7.78-7.78 2.81-2.81c.8-.78.8-2.07 0-2.86zM5.41 20L4 18.59l7.72-7.72 1.47 1.35L5.41 20z\"/>\n",
              "  </svg>\n",
              "      </button>\n",
              "      \n",
              "  <style>\n",
              "    .colab-df-container {\n",
              "      display:flex;\n",
              "      flex-wrap:wrap;\n",
              "      gap: 12px;\n",
              "    }\n",
              "\n",
              "    .colab-df-convert {\n",
              "      background-color: #E8F0FE;\n",
              "      border: none;\n",
              "      border-radius: 50%;\n",
              "      cursor: pointer;\n",
              "      display: none;\n",
              "      fill: #1967D2;\n",
              "      height: 32px;\n",
              "      padding: 0 0 0 0;\n",
              "      width: 32px;\n",
              "    }\n",
              "\n",
              "    .colab-df-convert:hover {\n",
              "      background-color: #E2EBFA;\n",
              "      box-shadow: 0px 1px 2px rgba(60, 64, 67, 0.3), 0px 1px 3px 1px rgba(60, 64, 67, 0.15);\n",
              "      fill: #174EA6;\n",
              "    }\n",
              "\n",
              "    [theme=dark] .colab-df-convert {\n",
              "      background-color: #3B4455;\n",
              "      fill: #D2E3FC;\n",
              "    }\n",
              "\n",
              "    [theme=dark] .colab-df-convert:hover {\n",
              "      background-color: #434B5C;\n",
              "      box-shadow: 0px 1px 3px 1px rgba(0, 0, 0, 0.15);\n",
              "      filter: drop-shadow(0px 1px 2px rgba(0, 0, 0, 0.3));\n",
              "      fill: #FFFFFF;\n",
              "    }\n",
              "  </style>\n",
              "\n",
              "      <script>\n",
              "        const buttonEl =\n",
              "          document.querySelector('#df-9c0d291b-4ced-42aa-8d1c-2216638ff0b1 button.colab-df-convert');\n",
              "        buttonEl.style.display =\n",
              "          google.colab.kernel.accessAllowed ? 'block' : 'none';\n",
              "\n",
              "        async function convertToInteractive(key) {\n",
              "          const element = document.querySelector('#df-9c0d291b-4ced-42aa-8d1c-2216638ff0b1');\n",
              "          const dataTable =\n",
              "            await google.colab.kernel.invokeFunction('convertToInteractive',\n",
              "                                                     [key], {});\n",
              "          if (!dataTable) return;\n",
              "\n",
              "          const docLinkHtml = 'Like what you see? Visit the ' +\n",
              "            '<a target=\"_blank\" href=https://colab.research.google.com/notebooks/data_table.ipynb>data table notebook</a>'\n",
              "            + ' to learn more about interactive tables.';\n",
              "          element.innerHTML = '';\n",
              "          dataTable['output_type'] = 'display_data';\n",
              "          await google.colab.output.renderOutput(dataTable, element);\n",
              "          const docLink = document.createElement('div');\n",
              "          docLink.innerHTML = docLinkHtml;\n",
              "          element.appendChild(docLink);\n",
              "        }\n",
              "      </script>\n",
              "    </div>\n",
              "  </div>\n",
              "  "
            ]
          },
          "metadata": {},
          "execution_count": 21
        }
      ]
    },
    {
      "cell_type": "markdown",
      "source": [
        "## Separar data de entrenamiento y de validación\n",
        "####Data de entrenamiento será el 80% y la de validación el 20%"
      ],
      "metadata": {
        "id": "js4JV9YfchQM"
      }
    },
    {
      "cell_type": "code",
      "source": [
        "seed = 44 #Es para que la red sea reproducible y se usen los mismos datos\n",
        "\n",
        "x_train, x_test, y_train, y_test = train_test_split(data_nor, target, test_size=0.2, random_state=seed) \n",
        "\n",
        "print('La dimensión de la data de entrenamiento es:', x_train.shape)\n",
        "print('\\nLa dimensión de la data de target de entrenamiento es:', y_train.shape)\n",
        "print('\\nLa dimensión de la data de validación es:', x_test.shape)\n",
        "print('\\nLa dimensión de la data de target de validación es:', y_test.shape)\n"
      ],
      "metadata": {
        "colab": {
          "base_uri": "https://localhost:8080/"
        },
        "id": "Jsm8uum5cWIn",
        "outputId": "1eea450f-ceee-4fe1-ed34-c805599110d8"
      },
      "execution_count": 22,
      "outputs": [
        {
          "output_type": "stream",
          "name": "stdout",
          "text": [
            "La dimensión de la data de entrenamiento es: (1382, 6)\n",
            "\n",
            "La dimensión de la data de target de entrenamiento es: (1382,)\n",
            "\n",
            "La dimensión de la data de validación es: (346, 6)\n",
            "\n",
            "La dimensión de la data de target de validación es: (346,)\n"
          ]
        }
      ]
    },
    {
      "cell_type": "markdown",
      "source": [
        "## One hot-encoding\n",
        "####Esto solo se hace con la data de salida"
      ],
      "metadata": {
        "id": "lM-gwwpHTbt7"
      }
    },
    {
      "cell_type": "code",
      "source": [
        "#No es conveniente que el target sea un vector unidimensional, lo recomendado es que como tenemos 4 clases o tipos de valores diferentes,\n",
        "# entonces se haga una matriz de 4 columnas (el num de las clases), y en donde el valor almacenado será 0 en cada una de ellas, menos en\n",
        "# la clase a la cual pertenezca la data de entrada en esa fila, que tendrá en su caso un 1. Esto es lo que se conoce como vector \n",
        "#one hot-encoding. Esto hace que el target sea esta nueva matriz, y no el vector unidimensional de antes.\n",
        "\n",
        "y_train2 = np_utils.to_categorical(y_train) #Matriz de one hot-encoding de los datos de entrenamiento\n",
        "y_test2 = np_utils.to_categorical(y_test) #Matriz de one hot-encoding de los datos de validación\n",
        "\n",
        "num_class = y_train2.shape[1] #Número de clases del target\n",
        "\n",
        "print('La nueva dimensión del target de entrenamiento es: ',y_train2.shape)\n",
        "print('\\nLa nueva dimensión del target de validación es: ',y_test2.shape)\n",
        "print('\\nEl número de clases del target es: ', num_class)"
      ],
      "metadata": {
        "colab": {
          "base_uri": "https://localhost:8080/"
        },
        "id": "TmtL8iXzcpzO",
        "outputId": "ea2554e8-5531-454b-9574-757741a1c3a5"
      },
      "execution_count": 23,
      "outputs": [
        {
          "output_type": "stream",
          "name": "stdout",
          "text": [
            "La nueva dimensión del target de entrenamiento es:  (1382, 4)\n",
            "\n",
            "La nueva dimensión del target de validación es:  (346, 4)\n",
            "\n",
            "El número de clases del target es:  4\n"
          ]
        }
      ]
    },
    {
      "cell_type": "code",
      "source": [
        "print(y_train) #ANTES"
      ],
      "metadata": {
        "colab": {
          "base_uri": "https://localhost:8080/"
        },
        "id": "gSCLVwKyde_w",
        "outputId": "0a133e4b-1adc-49c2-c25f-587be4492eb6"
      },
      "execution_count": 24,
      "outputs": [
        {
          "output_type": "stream",
          "name": "stdout",
          "text": [
            "[0 0 0 ... 0 0 0]\n"
          ]
        }
      ]
    },
    {
      "cell_type": "code",
      "source": [
        "print(y_train2) #AHORA"
      ],
      "metadata": {
        "colab": {
          "base_uri": "https://localhost:8080/"
        },
        "id": "qemO5W1zdU_D",
        "outputId": "2c365354-cc4e-4056-f310-2c6e0d796031"
      },
      "execution_count": 25,
      "outputs": [
        {
          "output_type": "stream",
          "name": "stdout",
          "text": [
            "[[1. 0. 0. 0.]\n",
            " [1. 0. 0. 0.]\n",
            " [1. 0. 0. 0.]\n",
            " ...\n",
            " [1. 0. 0. 0.]\n",
            " [1. 0. 0. 0.]\n",
            " [1. 0. 0. 0.]]\n"
          ]
        }
      ]
    },
    {
      "cell_type": "markdown",
      "source": [
        "##Gráficas para la comprensión del data set"
      ],
      "metadata": {
        "id": "xVupsHmtMZz0"
      }
    },
    {
      "cell_type": "markdown",
      "source": [
        "####Para ello primero debemos convertir los tipos de dato del dataframe normalizado que son objetos, a floats."
      ],
      "metadata": {
        "id": "t1Ph_-YAQW6G"
      }
    },
    {
      "cell_type": "code",
      "source": [
        "data_nor.dtypes"
      ],
      "metadata": {
        "colab": {
          "base_uri": "https://localhost:8080/"
        },
        "id": "x3CA-Ah8QeaF",
        "outputId": "c482a0cb-56f2-460c-e6af-1248f544798b"
      },
      "execution_count": 26,
      "outputs": [
        {
          "output_type": "execute_result",
          "data": {
            "text/plain": [
              "Precio_compra    float64\n",
              "Precio_mant      float64\n",
              "Num_puertas      float64\n",
              "Num_personas     float64\n",
              "Tam_maleta       float64\n",
              "Seguridad        float64\n",
              "dtype: object"
            ]
          },
          "metadata": {},
          "execution_count": 26
        }
      ]
    },
    {
      "cell_type": "code",
      "source": [
        "data_nor['Precio_compra']=data_nor['Precio_compra'].astype(float)\n",
        "data_nor['Precio_mant']=data_nor['Precio_mant'].astype(float)\n",
        "data_nor['Num_puertas']=data_nor['Num_puertas'].astype(float)\n",
        "data_nor['Num_personas']=data_nor['Num_personas'].astype(float)\n",
        "data_nor['Tam_maleta']=data_nor['Tam_maleta'].astype(float)\n",
        "data_nor['Seguridad']=data_nor['Seguridad'].astype(float)\n",
        "# data_nor['Target']=data_nor['Target'].astype(float)\n",
        "data_nor.dtypes"
      ],
      "metadata": {
        "colab": {
          "base_uri": "https://localhost:8080/"
        },
        "id": "NTCSxdnYQl9B",
        "outputId": "d85f16f8-46a6-4a0f-e8f2-ca1aa3eaa0d8"
      },
      "execution_count": 27,
      "outputs": [
        {
          "output_type": "execute_result",
          "data": {
            "text/plain": [
              "Precio_compra    float64\n",
              "Precio_mant      float64\n",
              "Num_puertas      float64\n",
              "Num_personas     float64\n",
              "Tam_maleta       float64\n",
              "Seguridad        float64\n",
              "dtype: object"
            ]
          },
          "metadata": {},
          "execution_count": 27
        }
      ]
    },
    {
      "cell_type": "markdown",
      "source": [
        "####Comportamiento de cada uno de los datos con respecto a los otros"
      ],
      "metadata": {
        "id": "0OQxzeuEMYCt"
      }
    },
    {
      "cell_type": "code",
      "source": [
        "sn.pairplot(data, hue='Target') #Relación de los datos con respecto a los otros, y su impacto con los valores del target\n",
        "plt.show()"
      ],
      "metadata": {
        "colab": {
          "base_uri": "https://localhost:8080/",
          "height": 0
        },
        "id": "UgPmEJAsMezu",
        "outputId": "73dd8b99-139e-4578-dd8d-7adec213d62a"
      },
      "execution_count": 28,
      "outputs": [
        {
          "output_type": "display_data",
          "data": {
            "text/plain": [
              "<Figure size 1122.38x1080 with 42 Axes>"
            ],
            "image/png": "[encoded data removed]"
          },
          "metadata": {
            "needs_background": "light"
          }
        }
      ]
    },
    {
      "cell_type": "markdown",
      "source": [
        "##Dimensión de entrada y número de clases"
      ],
      "metadata": {
        "id": "Cyph1MP3S7YF"
      }
    },
    {
      "cell_type": "code",
      "source": [
        "input_dim = x_train.shape[1] #Dimensión de entrada (cantidad de características de la data entrante, es decir, variables de entrada)\n",
        "\n",
        "num_class = y_train2.shape[1] #Número de clases (cantidad de neuronas de salidas)\n",
        "\n",
        "\n",
        "print('Dimensión de entrada:', input_dim)\n",
        "print('Número de clases:', num_class)"
      ],
      "metadata": {
        "colab": {
          "base_uri": "https://localhost:8080/"
        },
        "id": "HaSaGyIrS7r1",
        "outputId": "a5f9cf64-55b1-4c69-810a-103caa231188"
      },
      "execution_count": 29,
      "outputs": [
        {
          "output_type": "stream",
          "name": "stdout",
          "text": [
            "Dimensión de entrada: 6\n",
            "Número de clases: 4\n"
          ]
        }
      ]
    },
    {
      "cell_type": "markdown",
      "source": [
        "##Arquitectura del modelo\n",
        "\n",
        "Usando Keras y Tensorflow"
      ],
      "metadata": {
        "id": "ywRFjoTVTBEx"
      }
    },
    {
      "cell_type": "code",
      "source": [
        "def model():\n",
        "  model = Sequential()\n",
        "  \n",
        "  model.add(Dense(32, input_dim = input_dim, activation = 'relu'))\n",
        "  model.add(Dense(16, activation = 'relu'))\n",
        "  model.add(Dense(num_class, activation = 'softmax')) #Para que de un vector probabilístico al final\n",
        "\n",
        "  model.summary()\n",
        "\n",
        "  #Compile\n",
        "  model.compile(loss = 'categorical_crossentropy', optimizer = 'adam', metrics=['accuracy']) #Como es un problema probabilístico, se usa un error categorical\n",
        "  # El optimizador que mejor funciona es el adam, y también usaremos métricas\n",
        "\n",
        "  return model"
      ],
      "metadata": {
        "id": "AhvdIPOyeFNi"
      },
      "execution_count": 30,
      "outputs": []
    },
    {
      "cell_type": "code",
      "source": [
        "model = model()\n",
        "\n",
        "plot_model(model, to_file='model.jpg', show_shapes=True) #Para mostrar el resumen de la arquitectura"
      ],
      "metadata": {
        "colab": {
          "base_uri": "https://localhost:8080/",
          "height": 682
        },
        "id": "cQepU6a0fOSg",
        "outputId": "091a0d37-afff-4f9b-f60b-4061f4588fac"
      },
      "execution_count": 31,
      "outputs": [
        {
          "output_type": "stream",
          "name": "stdout",
          "text": [
            "Model: \"sequential\"\n",
            "_________________________________________________________________\n",
            " Layer (type)                Output Shape              Param #   \n",
            "=================================================================\n",
            " dense (Dense)               (None, 32)                224       \n",
            "                                                                 \n",
            " dense_1 (Dense)             (None, 16)                528       \n",
            "                                                                 \n",
            " dense_2 (Dense)             (None, 4)                 68        \n",
            "                                                                 \n",
            "=================================================================\n",
            "Total params: 820\n",
            "Trainable params: 820\n",
            "Non-trainable params: 0\n",
            "_________________________________________________________________\n"
          ]
        },
        {
          "output_type": "execute_result",
          "data": {
            "text/plain": [
              "<IPython.core.display.Image object>"
            ],
            "image/jpeg": "[encoded data removed]"
          },
          "metadata": {},
          "execution_count": 31
        }
      ]
    },
    {
      "cell_type": "markdown",
      "source": [
        "##Entrenando la red y sus neuronas"
      ],
      "metadata": {
        "id": "EX4kZKSDfcPP"
      }
    },
    {
      "cell_type": "code",
      "source": [
        "x_train = np.asarray(x_train).astype('float32')  #Necesaria la transformación para que se ejecute el model.fit\n",
        "y_train2 = np.asarray(y_train2).astype('float32')\n",
        "x_test = np.asarray(x_test).astype('float32')\n",
        "y_test2 = np.asarray(y_test2).astype('float32')"
      ],
      "metadata": {
        "id": "ZWMr-GPQkoM8"
      },
      "execution_count": 32,
      "outputs": []
    },
    {
      "cell_type": "code",
      "source": [
        "history = model.fit(x_train,y_train2, validation_data=(x_test,y_test2), epochs=500, shuffle=True, verbose=0)\n",
        "#El shuffle es para que la data se revuelva y no la entrene siempre en el mismo orden, mejorando la calidad del aprendizaje\n",
        "#Mientras el accuracy más cerca a 1 mejor"
      ],
      "metadata": {
        "id": "FfBpKhGkferw"
      },
      "execution_count": 33,
      "outputs": []
    },
    {
      "cell_type": "markdown",
      "source": [
        "##Pérdida y acierto del entrenamiento"
      ],
      "metadata": {
        "id": "dn7uzjQOlnOp"
      }
    },
    {
      "cell_type": "code",
      "source": [
        "score = model.evaluate(x_train, y_train2, verbose=0) #Para mostrar la pérdida\n",
        "\n",
        "print('Score de entrenamiento:',score) #Imprimiendo el valor de la pérdida"
      ],
      "metadata": {
        "colab": {
          "base_uri": "https://localhost:8080/"
        },
        "id": "1Ixcq72Qld-p",
        "outputId": "8506bc5e-b010-447c-b775-8216ca208778"
      },
      "execution_count": 34,
      "outputs": [
        {
          "output_type": "stream",
          "name": "stdout",
          "text": [
            "Score de entrenamiento: [0.011637029238045216, 0.9963820576667786]\n"
          ]
        }
      ]
    },
    {
      "cell_type": "markdown",
      "source": [
        "##Pérdida y acierto de la validación"
      ],
      "metadata": {
        "id": "axg9aiZIl3jJ"
      }
    },
    {
      "cell_type": "code",
      "source": [
        "score = model.evaluate(x_test, y_test2, verbose=0) #Para mostrar la pérdida\n",
        "\n",
        "print('Score de validación:',score) #Imprimiendo el valor de la pérdida"
      ],
      "metadata": {
        "colab": {
          "base_uri": "https://localhost:8080/"
        },
        "id": "gcdMellAl_Mb",
        "outputId": "61fd7870-65c1-41e7-c743-4f95260f1da6"
      },
      "execution_count": 35,
      "outputs": [
        {
          "output_type": "stream",
          "name": "stdout",
          "text": [
            "Score de validación: [0.03979877009987831, 0.9884393215179443]\n"
          ]
        }
      ]
    },
    {
      "cell_type": "markdown",
      "source": [
        "##Graficar Pérdida y Accuracy"
      ],
      "metadata": {
        "id": "CzJqhh2rmfwh"
      }
    },
    {
      "cell_type": "code",
      "source": [
        "plt.figure()\n",
        "plt.plot(history.history['accuracy'], label='accuracy')\n",
        "plt.plot(history.history['val_accuracy'], label='val_accuracy')\n",
        "plt.title('Model accuracy')\n",
        "plt.xlabel('Epochs')\n",
        "plt.ylabel('Accuracy')\n",
        "plt.legend(loc = 'lower right') #Podemos decirle dónde queremos colocar la leyenda\n",
        "plt.show()\n",
        "\n",
        "plt.figure()\n",
        "plt.plot(history.history['loss'], label='loss')\n",
        "plt.plot(history.history['val_loss'], label='val_loss')\n",
        "plt.title('Model loss')\n",
        "plt.xlabel('Epochs')\n",
        "plt.ylabel('Loss')\n",
        "plt.legend(loc = 'upper right')\n",
        "plt.show()"
      ],
      "metadata": {
        "colab": {
          "base_uri": "https://localhost:8080/",
          "height": 573
        },
        "id": "yhThg_jimiW2",
        "outputId": "8ea4769f-6b32-4f09-ac87-b57cf82badb9"
      },
      "execution_count": 36,
      "outputs": [
        {
          "output_type": "display_data",
          "data": {
            "text/plain": [
              "<Figure size 432x288 with 1 Axes>"
            ],
            "image/png": "[encoded data removed]"
          },
          "metadata": {
            "needs_background": "light"
          }
        },
        {
          "output_type": "display_data",
          "data": {
            "text/plain": [
              "<Figure size 432x288 with 1 Axes>"
            ],
            "image/png": "[encoded data removed]"
          },
          "metadata": {
            "needs_background": "light"
          }
        }
      ]
    },
    {
      "cell_type": "markdown",
      "source": [
        "##Model Predict"
      ],
      "metadata": {
        "id": "q2qEWY_0nGc8"
      }
    },
    {
      "cell_type": "code",
      "source": [
        "outputTest = model.predict(x_test) #Predicción con la data de validación\n",
        "print(outputTest)"
      ],
      "metadata": {
        "colab": {
          "base_uri": "https://localhost:8080/"
        },
        "id": "ANozXWHvnH_x",
        "outputId": "59e29f4b-ac19-42f0-98a6-42e0efb386a7"
      },
      "execution_count": 37,
      "outputs": [
        {
          "output_type": "stream",
          "name": "stdout",
          "text": [
            "[[1.0000000e+00 4.0770058e-08 5.7617678e-21 0.0000000e+00]\n",
            " [9.3256378e-01 6.7436226e-02 4.5617585e-12 3.7623837e-23]\n",
            " [1.0000000e+00 2.5483378e-20 4.7868905e-35 0.0000000e+00]\n",
            " ...\n",
            " [1.0000000e+00 5.2019422e-16 0.0000000e+00 0.0000000e+00]\n",
            " [7.5819199e-03 6.8189174e-01 3.1052631e-01 1.5453629e-09]\n",
            " [9.9999857e-01 1.3997164e-06 7.8229196e-32 0.0000000e+00]]\n"
          ]
        }
      ]
    },
    {
      "cell_type": "markdown",
      "source": [
        "## Confusion matrix\n",
        "####Esta matriz lo que indica es la cantidad o porcentaje de clasificaciones correctas en la diagonal de la matriz, así como la cantidad de clasificaciones incorrectas en cada clase"
      ],
      "metadata": {
        "id": "_aQTEsNKm7HP"
      }
    },
    {
      "cell_type": "code",
      "source": [
        "print('La dimensión de la predicción de la validación es: ',outputTest.shape)\n",
        "#Aquí hacemos una pequeña prueba para ver si los valores y resultados de un caso en específico, concuerdan\n",
        "print('\\nLa salida deseada es: ',y_test[0])\n",
        "print('\\nLa salida de la predicción es: ',outputTest[0])"
      ],
      "metadata": {
        "colab": {
          "base_uri": "https://localhost:8080/"
        },
        "id": "chaN_OmRm70q",
        "outputId": "1c124529-b838-43bd-b7a2-a2d757fbd799"
      },
      "execution_count": 38,
      "outputs": [
        {
          "output_type": "stream",
          "name": "stdout",
          "text": [
            "La dimensión de la predicción de la validación es:  (346, 4)\n",
            "\n",
            "La salida deseada es:  0\n",
            "\n",
            "La salida de la predicción es:  [1.0000000e+00 4.0770058e-08 5.7617678e-21 0.0000000e+00]\n"
          ]
        }
      ]
    },
    {
      "cell_type": "code",
      "source": [
        "print(np.argmax(outputTest[0])) #Aquí verificamos que lo que está en la posición inicial del y_test sea igual al del outputTest"
      ],
      "metadata": {
        "colab": {
          "base_uri": "https://localhost:8080/"
        },
        "id": "xIR4WkS2nwxw",
        "outputId": "9dc8e99c-1a87-4c33-c86d-50c8b39a7843"
      },
      "execution_count": 39,
      "outputs": [
        {
          "output_type": "stream",
          "name": "stdout",
          "text": [
            "0\n"
          ]
        }
      ]
    },
    {
      "cell_type": "code",
      "source": [
        "print(y_test) #Data de salida esperada para la validación"
      ],
      "metadata": {
        "colab": {
          "base_uri": "https://localhost:8080/"
        },
        "id": "81sVJhzEsLET",
        "outputId": "ff547825-5479-4218-94ca-6159457f2cba"
      },
      "execution_count": 40,
      "outputs": [
        {
          "output_type": "stream",
          "name": "stdout",
          "text": [
            "[0 0 0 1 0 0 0 1 1 0 0 0 1 0 0 2 1 2 0 0 0 0 2 0 1 0 0 0 0 0 0 0 0 0 0 1 1\n",
            " 2 0 0 0 1 0 0 0 1 0 0 0 0 0 1 0 0 0 0 0 2 0 1 1 0 0 0 0 0 0 0 0 1 0 0 0 0\n",
            " 0 0 0 0 0 0 1 0 0 1 0 0 0 1 3 1 1 0 1 0 0 1 0 2 0 1 0 0 0 0 0 3 0 0 0 0 0\n",
            " 0 0 0 0 0 3 0 1 0 0 0 0 1 0 1 0 0 0 1 0 0 3 1 3 0 0 0 3 1 0 0 0 0 0 1 1 2\n",
            " 2 0 0 1 0 0 0 0 0 0 0 0 0 0 0 1 0 0 0 0 0 0 0 1 1 3 0 0 1 0 0 0 0 1 1 0 0\n",
            " 0 0 1 0 1 0 0 0 0 1 0 0 1 0 1 0 0 1 0 0 0 0 0 0 0 1 1 1 0 1 3 0 0 0 0 0 0\n",
            " 0 0 0 0 2 1 1 0 1 0 0 0 0 1 0 1 0 0 0 0 1 0 0 0 0 0 1 0 1 0 0 0 1 0 0 0 0\n",
            " 0 0 1 0 2 1 0 0 0 0 0 1 0 0 0 2 0 1 0 0 0 1 0 0 0 0 0 0 0 0 0 1 1 0 3 0 0\n",
            " 1 0 0 0 0 0 0 0 0 0 0 0 0 0 1 0 0 0 1 0 0 1 3 0 0 1 0 1 0 0 0 0 0 3 0 3 0\n",
            " 2 1 1 2 1 0 0 0 3 0 0 1 0]\n"
          ]
        }
      ]
    },
    {
      "cell_type": "code",
      "source": [
        "outputTest = np.argmax(outputTest, axis=1) #Para obtener el valor máximo de las filas\n",
        "outputTest = outputTest.round() #Redondear el valor máximo obtenido\n",
        "print(outputTest) #Data de salida obtenida para la validación"
      ],
      "metadata": {
        "colab": {
          "base_uri": "https://localhost:8080/"
        },
        "id": "xaJHZQlOtzP6",
        "outputId": "da3734e4-6785-4765-c583-ef70ba1f1220"
      },
      "execution_count": 41,
      "outputs": [
        {
          "output_type": "stream",
          "name": "stdout",
          "text": [
            "[0 0 0 1 0 0 0 1 1 0 0 0 1 0 0 2 1 2 0 0 0 0 2 0 1 0 0 0 0 0 0 0 0 0 0 1 1\n",
            " 2 0 0 0 1 0 0 0 1 0 0 0 0 0 1 0 0 0 0 0 1 0 1 1 0 0 0 0 0 0 0 0 1 0 0 0 0\n",
            " 0 0 0 0 0 0 1 0 0 1 0 0 0 1 3 1 1 0 1 0 0 1 0 1 0 1 0 0 0 0 0 3 0 0 0 0 0\n",
            " 0 0 0 0 0 3 0 1 0 0 0 0 1 0 1 0 0 0 1 0 0 3 1 3 0 0 0 3 1 0 0 0 0 0 1 1 1\n",
            " 2 0 0 1 0 0 0 0 0 0 0 0 0 0 0 1 0 0 0 0 0 0 0 1 1 3 0 0 1 0 0 0 0 1 1 0 0\n",
            " 0 0 1 0 1 0 0 0 0 1 0 0 1 0 1 0 0 1 0 0 0 0 0 0 0 1 1 1 0 1 3 0 0 0 0 0 0\n",
            " 0 0 0 0 2 1 1 0 1 0 0 0 0 1 0 1 0 0 0 0 1 0 0 0 0 0 1 0 1 0 0 0 1 0 0 0 0\n",
            " 0 0 1 0 2 1 0 0 0 0 0 1 0 0 0 2 0 1 0 0 0 1 0 0 0 0 0 0 0 0 0 1 1 0 3 0 0\n",
            " 1 0 0 0 0 0 0 0 0 0 0 0 0 0 1 0 0 0 1 0 0 1 3 0 0 1 0 1 0 0 0 0 0 3 0 3 0\n",
            " 2 1 1 2 1 0 0 0 3 1 0 1 0]\n"
          ]
        }
      ]
    },
    {
      "cell_type": "code",
      "source": [
        "cm = confusion_matrix(y_test, outputTest) #NO se pueden ingresar aquí los vectores encode, se le tiene que pasar el valor\n",
        "#real. En el segundo argumento, se extraerá la posición en la cual ese vector o fila tiene su valor máximo, que es el que queremos obtener\n",
        "print(cm)"
      ],
      "metadata": {
        "colab": {
          "base_uri": "https://localhost:8080/"
        },
        "id": "2_Yvwjbfn_bj",
        "outputId": "d8f82053-3020-4c06-cf6c-61dd5e17fee6"
      },
      "execution_count": 42,
      "outputs": [
        {
          "output_type": "stream",
          "name": "stdout",
          "text": [
            "[[246   1   0   0]\n",
            " [  0  73   0   0]\n",
            " [  0   3  10   0]\n",
            " [  0   0   0  13]]\n"
          ]
        }
      ]
    },
    {
      "cell_type": "code",
      "source": [
        "def plot_confusion_matrix(cm, num_classes,normalize=True,title='Matriz de Confusión',cmap=plt.cm.Blues): #Función para imprimir mejor la matriz de confusión\n",
        "      \n",
        "      import itertools\n",
        "      \n",
        "      classes = ['0', '1', '2','3']\n",
        "\n",
        "      plt.figure(figsize = (7,7))\n",
        "      plt.imshow(cm, interpolation='nearest', cmap=cmap)\n",
        "      plt.title(title)\n",
        "      plt.colorbar()\n",
        "      tick_marks = np.arange(len(classes))\n",
        "      plt.xticks(tick_marks, classes, rotation=90)\n",
        "      plt.yticks(tick_marks, classes)\n",
        "      if normalize:\n",
        "          cm = cm.astype('float') / cm.sum(axis=1)[:, np.newaxis]\n",
        "          cm = np.round(cm,3)\n",
        "      thresh = cm.max() / 1.005\n",
        "      for i, j in itertools.product(range(cm.shape[0]), range(cm.shape[1])):\n",
        "          plt.text(j, i, cm[i, j],\n",
        "                   horizontalalignment=\"center\",\n",
        "                   color=\"white\" if cm[i, j] > thresh else \"black\")\n",
        "      plt.tight_layout()\n",
        "      plt.ylabel('Original')\n",
        "      plt.xlabel('Predicciones')"
      ],
      "metadata": {
        "id": "M68FgutB8RlL"
      },
      "execution_count": 43,
      "outputs": []
    },
    {
      "cell_type": "code",
      "source": [
        "plot_confusion_matrix(cm, num_class) #Matriz de confusión"
      ],
      "metadata": {
        "colab": {
          "base_uri": "https://localhost:8080/",
          "height": 513
        },
        "id": "VFLCgeHw8ScB",
        "outputId": "50859276-455c-4896-f1d7-5f9e3e30d45b"
      },
      "execution_count": 44,
      "outputs": [
        {
          "output_type": "display_data",
          "data": {
            "text/plain": [
              "<Figure size 504x504 with 2 Axes>"
            ],
            "image/png": "[encoded data removed]"
          },
          "metadata": {
            "needs_background": "light"
          }
        }
      ]
    }
  ]
}